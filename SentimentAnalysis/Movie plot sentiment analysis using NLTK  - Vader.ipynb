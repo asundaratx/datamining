{
 "cells": [
  {
   "cell_type": "code",
   "execution_count": 1,
   "metadata": {},
   "outputs": [],
   "source": [
    "import nltk\n",
    "from nltk.sentiment.vader import SentimentIntensityAnalyzer\n",
    "import requests\n",
    "import json"
   ]
  },
  {
   "cell_type": "markdown",
   "metadata": {},
   "source": [
    "Note: Movie data was obtained using API made available by OMDB"
   ]
  },
  {
   "cell_type": "code",
   "execution_count": 2,
   "metadata": {},
   "outputs": [],
   "source": [
    "movielist = [\"Da%205%20bloods\", \"Sorry%20We%20Missed%20You\", \"On%20the%20record\", \"Miss%20Juneteenth\", \"Emma\"]"
   ]
  },
  {
   "cell_type": "code",
   "execution_count": 3,
   "metadata": {},
   "outputs": [],
   "source": [
    "def getMovieDetails():\n",
    "    reviews = list()\n",
    "    for movie in movielist:\n",
    "        url = \"http://www.omdbapi.com/?t=\" + movie + \"&apikey=dd344cef\"\n",
    "        page = requests.get(url)\n",
    "        review = page.json()\n",
    "        reviews.append(review)\n",
    "    return reviews"
   ]
  },
  {
   "cell_type": "code",
   "execution_count": 4,
   "metadata": {},
   "outputs": [],
   "source": [
    "def analysePlotSentiment(movie_plot):\n",
    "    sid = SentimentIntensityAnalyzer()\n",
    "    scores = sid.polarity_scores(movie_plot)\n",
    "    score=''\n",
    "    for key in sorted(scores):\n",
    "        score+= '{0}: {1}, '.format(key, scores[key])\n",
    "    return score"
   ]
  },
  {
   "cell_type": "code",
   "execution_count": 5,
   "metadata": {},
   "outputs": [],
   "source": [
    "reviews = getMovieDetails()"
   ]
  },
  {
   "cell_type": "code",
   "execution_count": 6,
   "metadata": {},
   "outputs": [
    {
     "name": "stdout",
     "output_type": "stream",
     "text": [
      "Da 5 Bloods : compound: -0.7003, neg: 0.19, neu: 0.81, pos: 0.0, \n",
      "Sorry We Missed You : compound: -0.7906, neg: 0.251, neu: 0.649, pos: 0.1, \n",
      "On the Record : compound: -0.3832, neg: 0.169, neu: 0.72, pos: 0.111, \n",
      "Miss Juneteenth : compound: 0.25, neg: 0.184, neu: 0.631, pos: 0.184, \n",
      "Emma : compound: 0.8126, neg: 0.079, neu: 0.537, pos: 0.384, \n"
     ]
    }
   ],
   "source": [
    "for review in reviews:\n",
    "    title = review['Title']\n",
    "    plot = review['Plot']\n",
    "    sentiment = analysePlotSentiment(plot)\n",
    "    print(title + \" : \" + sentiment)"
   ]
  },
  {
   "cell_type": "code",
   "execution_count": null,
   "metadata": {},
   "outputs": [],
   "source": []
  }
 ],
 "metadata": {
  "kernelspec": {
   "display_name": "Python 3",
   "language": "python",
   "name": "python3"
  },
  "language_info": {
   "codemirror_mode": {
    "name": "ipython",
    "version": 3
   },
   "file_extension": ".py",
   "mimetype": "text/x-python",
   "name": "python",
   "nbconvert_exporter": "python",
   "pygments_lexer": "ipython3",
   "version": "3.7.6"
  }
 },
 "nbformat": 4,
 "nbformat_minor": 4
}
