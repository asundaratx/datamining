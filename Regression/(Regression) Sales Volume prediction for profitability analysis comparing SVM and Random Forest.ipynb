{
 "cells": [
  {
   "cell_type": "markdown",
   "metadata": {},
   "source": [
    "This notebook uses the existing sales data from existing_products.csv to predict sales volume on new_products.csv"
   ]
  },
  {
   "cell_type": "code",
   "execution_count": 1,
   "metadata": {},
   "outputs": [],
   "source": [
    "import pandas as pd\n",
    "%matplotlib inline\n",
    "import matplotlib.pyplot as plt\n",
    "import seaborn as sns\n",
    "from sklearn.model_selection import train_test_split\n",
    "from sklearn.svm import SVR\n",
    "from sklearn.ensemble import RandomForestRegressor \n",
    "from sklearn.metrics import r2_score,mean_squared_error\n",
    "import numpy as np"
   ]
  },
  {
   "cell_type": "code",
   "execution_count": 2,
   "metadata": {},
   "outputs": [],
   "source": [
    "existing_products = pd.read_csv(\"existingProductAttributes.csv\")\n",
    "new_products = pd.read_csv(\"newProductAttributes.csv\")"
   ]
  },
  {
   "cell_type": "code",
   "execution_count": 3,
   "metadata": {},
   "outputs": [
    {
     "data": {
      "text/html": [
       "<div>\n",
       "<style scoped>\n",
       "    .dataframe tbody tr th:only-of-type {\n",
       "        vertical-align: middle;\n",
       "    }\n",
       "\n",
       "    .dataframe tbody tr th {\n",
       "        vertical-align: top;\n",
       "    }\n",
       "\n",
       "    .dataframe thead th {\n",
       "        text-align: right;\n",
       "    }\n",
       "</style>\n",
       "<table border=\"1\" class=\"dataframe\">\n",
       "  <thead>\n",
       "    <tr style=\"text-align: right;\">\n",
       "      <th></th>\n",
       "      <th>Product #</th>\n",
       "      <th>Price</th>\n",
       "      <th>5 Star Reviews</th>\n",
       "      <th>4 Star Reviews</th>\n",
       "      <th>3 Star Reviews</th>\n",
       "      <th>2 Star Reviews</th>\n",
       "      <th>1 Star Reviews</th>\n",
       "      <th>Positive Service Review</th>\n",
       "      <th>Negative Service Review</th>\n",
       "      <th>Would consumer recommend product</th>\n",
       "      <th>Best Sellers Rank</th>\n",
       "      <th>Shipping Weight (lbs)</th>\n",
       "      <th>Product Depth</th>\n",
       "      <th>Product Width</th>\n",
       "      <th>Product Height</th>\n",
       "      <th>Profit margin</th>\n",
       "      <th>Volume</th>\n",
       "    </tr>\n",
       "  </thead>\n",
       "  <tbody>\n",
       "    <tr>\n",
       "      <th>count</th>\n",
       "      <td>80.000000</td>\n",
       "      <td>80.000000</td>\n",
       "      <td>80.000000</td>\n",
       "      <td>80.000000</td>\n",
       "      <td>80.000000</td>\n",
       "      <td>80.000000</td>\n",
       "      <td>80.000000</td>\n",
       "      <td>80.000000</td>\n",
       "      <td>80.000000</td>\n",
       "      <td>80.000000</td>\n",
       "      <td>65.000000</td>\n",
       "      <td>80.000000</td>\n",
       "      <td>80.000000</td>\n",
       "      <td>80.000000</td>\n",
       "      <td>80.000000</td>\n",
       "      <td>80.00000</td>\n",
       "      <td>80.000000</td>\n",
       "    </tr>\n",
       "    <tr>\n",
       "      <th>mean</th>\n",
       "      <td>142.550000</td>\n",
       "      <td>247.251125</td>\n",
       "      <td>176.250000</td>\n",
       "      <td>40.200000</td>\n",
       "      <td>14.787500</td>\n",
       "      <td>13.787500</td>\n",
       "      <td>37.675000</td>\n",
       "      <td>51.750000</td>\n",
       "      <td>6.225000</td>\n",
       "      <td>0.745000</td>\n",
       "      <td>1126.307692</td>\n",
       "      <td>9.668125</td>\n",
       "      <td>14.425250</td>\n",
       "      <td>7.819000</td>\n",
       "      <td>6.258625</td>\n",
       "      <td>0.15450</td>\n",
       "      <td>705.000000</td>\n",
       "    </tr>\n",
       "    <tr>\n",
       "      <th>std</th>\n",
       "      <td>26.732572</td>\n",
       "      <td>339.574925</td>\n",
       "      <td>379.193698</td>\n",
       "      <td>70.741891</td>\n",
       "      <td>30.963717</td>\n",
       "      <td>45.924455</td>\n",
       "      <td>186.718483</td>\n",
       "      <td>104.471606</td>\n",
       "      <td>14.304974</td>\n",
       "      <td>0.197388</td>\n",
       "      <td>3261.130095</td>\n",
       "      <td>15.207573</td>\n",
       "      <td>34.930846</td>\n",
       "      <td>6.814665</td>\n",
       "      <td>6.888852</td>\n",
       "      <td>0.11639</td>\n",
       "      <td>1516.774793</td>\n",
       "    </tr>\n",
       "    <tr>\n",
       "      <th>min</th>\n",
       "      <td>101.000000</td>\n",
       "      <td>3.600000</td>\n",
       "      <td>0.000000</td>\n",
       "      <td>0.000000</td>\n",
       "      <td>0.000000</td>\n",
       "      <td>0.000000</td>\n",
       "      <td>0.000000</td>\n",
       "      <td>0.000000</td>\n",
       "      <td>0.000000</td>\n",
       "      <td>0.100000</td>\n",
       "      <td>1.000000</td>\n",
       "      <td>0.010000</td>\n",
       "      <td>0.000000</td>\n",
       "      <td>0.000000</td>\n",
       "      <td>0.000000</td>\n",
       "      <td>0.05000</td>\n",
       "      <td>0.000000</td>\n",
       "    </tr>\n",
       "    <tr>\n",
       "      <th>25%</th>\n",
       "      <td>120.750000</td>\n",
       "      <td>52.665000</td>\n",
       "      <td>10.000000</td>\n",
       "      <td>2.750000</td>\n",
       "      <td>2.000000</td>\n",
       "      <td>1.000000</td>\n",
       "      <td>2.000000</td>\n",
       "      <td>2.000000</td>\n",
       "      <td>1.000000</td>\n",
       "      <td>0.700000</td>\n",
       "      <td>7.000000</td>\n",
       "      <td>0.512500</td>\n",
       "      <td>4.775000</td>\n",
       "      <td>1.750000</td>\n",
       "      <td>0.400000</td>\n",
       "      <td>0.05000</td>\n",
       "      <td>40.000000</td>\n",
       "    </tr>\n",
       "    <tr>\n",
       "      <th>50%</th>\n",
       "      <td>140.500000</td>\n",
       "      <td>132.720000</td>\n",
       "      <td>50.000000</td>\n",
       "      <td>22.000000</td>\n",
       "      <td>7.000000</td>\n",
       "      <td>3.000000</td>\n",
       "      <td>8.500000</td>\n",
       "      <td>5.500000</td>\n",
       "      <td>3.000000</td>\n",
       "      <td>0.800000</td>\n",
       "      <td>27.000000</td>\n",
       "      <td>2.100000</td>\n",
       "      <td>7.950000</td>\n",
       "      <td>6.800000</td>\n",
       "      <td>3.950000</td>\n",
       "      <td>0.12000</td>\n",
       "      <td>200.000000</td>\n",
       "    </tr>\n",
       "    <tr>\n",
       "      <th>75%</th>\n",
       "      <td>160.250000</td>\n",
       "      <td>352.490000</td>\n",
       "      <td>306.500000</td>\n",
       "      <td>33.000000</td>\n",
       "      <td>11.250000</td>\n",
       "      <td>7.000000</td>\n",
       "      <td>15.250000</td>\n",
       "      <td>42.000000</td>\n",
       "      <td>6.250000</td>\n",
       "      <td>0.900000</td>\n",
       "      <td>281.000000</td>\n",
       "      <td>11.205000</td>\n",
       "      <td>15.025000</td>\n",
       "      <td>11.275000</td>\n",
       "      <td>10.300000</td>\n",
       "      <td>0.20000</td>\n",
       "      <td>1226.000000</td>\n",
       "    </tr>\n",
       "    <tr>\n",
       "      <th>max</th>\n",
       "      <td>200.000000</td>\n",
       "      <td>2249.990000</td>\n",
       "      <td>2801.000000</td>\n",
       "      <td>431.000000</td>\n",
       "      <td>162.000000</td>\n",
       "      <td>370.000000</td>\n",
       "      <td>1654.000000</td>\n",
       "      <td>536.000000</td>\n",
       "      <td>112.000000</td>\n",
       "      <td>1.000000</td>\n",
       "      <td>17502.000000</td>\n",
       "      <td>63.000000</td>\n",
       "      <td>300.000000</td>\n",
       "      <td>31.750000</td>\n",
       "      <td>25.800000</td>\n",
       "      <td>0.40000</td>\n",
       "      <td>11204.000000</td>\n",
       "    </tr>\n",
       "  </tbody>\n",
       "</table>\n",
       "</div>"
      ],
      "text/plain": [
       "        Product #        Price  5 Star Reviews  4 Star Reviews  \\\n",
       "count   80.000000    80.000000       80.000000       80.000000   \n",
       "mean   142.550000   247.251125      176.250000       40.200000   \n",
       "std     26.732572   339.574925      379.193698       70.741891   \n",
       "min    101.000000     3.600000        0.000000        0.000000   \n",
       "25%    120.750000    52.665000       10.000000        2.750000   \n",
       "50%    140.500000   132.720000       50.000000       22.000000   \n",
       "75%    160.250000   352.490000      306.500000       33.000000   \n",
       "max    200.000000  2249.990000     2801.000000      431.000000   \n",
       "\n",
       "       3 Star Reviews  2 Star Reviews  1 Star Reviews  \\\n",
       "count       80.000000       80.000000       80.000000   \n",
       "mean        14.787500       13.787500       37.675000   \n",
       "std         30.963717       45.924455      186.718483   \n",
       "min          0.000000        0.000000        0.000000   \n",
       "25%          2.000000        1.000000        2.000000   \n",
       "50%          7.000000        3.000000        8.500000   \n",
       "75%         11.250000        7.000000       15.250000   \n",
       "max        162.000000      370.000000     1654.000000   \n",
       "\n",
       "       Positive Service Review  Negative Service Review  \\\n",
       "count                80.000000                80.000000   \n",
       "mean                 51.750000                 6.225000   \n",
       "std                 104.471606                14.304974   \n",
       "min                   0.000000                 0.000000   \n",
       "25%                   2.000000                 1.000000   \n",
       "50%                   5.500000                 3.000000   \n",
       "75%                  42.000000                 6.250000   \n",
       "max                 536.000000               112.000000   \n",
       "\n",
       "       Would consumer recommend product  Best Sellers Rank  \\\n",
       "count                         80.000000          65.000000   \n",
       "mean                           0.745000        1126.307692   \n",
       "std                            0.197388        3261.130095   \n",
       "min                            0.100000           1.000000   \n",
       "25%                            0.700000           7.000000   \n",
       "50%                            0.800000          27.000000   \n",
       "75%                            0.900000         281.000000   \n",
       "max                            1.000000       17502.000000   \n",
       "\n",
       "       Shipping Weight (lbs)  Product Depth  Product Width  Product Height  \\\n",
       "count              80.000000      80.000000      80.000000       80.000000   \n",
       "mean                9.668125      14.425250       7.819000        6.258625   \n",
       "std                15.207573      34.930846       6.814665        6.888852   \n",
       "min                 0.010000       0.000000       0.000000        0.000000   \n",
       "25%                 0.512500       4.775000       1.750000        0.400000   \n",
       "50%                 2.100000       7.950000       6.800000        3.950000   \n",
       "75%                11.205000      15.025000      11.275000       10.300000   \n",
       "max                63.000000     300.000000      31.750000       25.800000   \n",
       "\n",
       "       Profit margin        Volume  \n",
       "count       80.00000     80.000000  \n",
       "mean         0.15450    705.000000  \n",
       "std          0.11639   1516.774793  \n",
       "min          0.05000      0.000000  \n",
       "25%          0.05000     40.000000  \n",
       "50%          0.12000    200.000000  \n",
       "75%          0.20000   1226.000000  \n",
       "max          0.40000  11204.000000  "
      ]
     },
     "execution_count": 3,
     "metadata": {},
     "output_type": "execute_result"
    }
   ],
   "source": [
    "# EDA on existing products\n",
    "existing_products.describe()"
   ]
  },
  {
   "cell_type": "code",
   "execution_count": 4,
   "metadata": {},
   "outputs": [],
   "source": [
    "# modifying new sales file columns to match existing sales file\n",
    "new_products.rename(columns={'\\'Product Type\\'': 'Product Type', '\\'Product #\\'': 'Product #', \n",
    "                             '\\'5 Star Reviews\\'': '5 Star Reviews', '\\'4 Star Reviews\\'': '4 Star Reviews',\n",
    "    '\\'3 Star Reviews\\'': '3 Star Reviews', '\\'2 Star Reviews\\'': '2 Star Reviews','\\'1 Star Reviews\\'': '1 Star Reviews',\n",
    "      '\\'Positive Service Review\\'': 'Positive Service Review', '\\'Negative Service Review\\'': 'Negative Service Review',\n",
    "        '\\'Best Sellers Rank\\'': 'Best Sellers Rank', '\\'Shipping Weight (lbs)\\'': 'Shipping Weight (lbs)',\n",
    "          '\\'Product Depth\\'': 'Product Depth', '\\'Product Width\\'': 'Product Width',\n",
    "       '\\'Product Height\\'': 'Product Height', '\\'Profit margin\\'': 'Profit margin',\n",
    "         '\\'Would consumer recommend product\\'': 'Would consumer recommend product'                    \n",
    "                            }, inplace=True)"
   ]
  },
  {
   "cell_type": "code",
   "execution_count": 5,
   "metadata": {},
   "outputs": [],
   "source": [
    "# Best sellers rank has na's. Removing to clean. Another alternative is dropna\n",
    "del existing_products['Best Sellers Rank']\n",
    "del new_products['Best Sellers Rank']"
   ]
  },
  {
   "cell_type": "code",
   "execution_count": 6,
   "metadata": {},
   "outputs": [],
   "source": [
    "corr = existing_products.corr()"
   ]
  },
  {
   "cell_type": "code",
   "execution_count": 7,
   "metadata": {},
   "outputs": [
    {
     "data": {
      "text/plain": [
       "<matplotlib.axes._subplots.AxesSubplot at 0x28954d39bc8>"
      ]
     },
     "execution_count": 7,
     "metadata": {},
     "output_type": "execute_result"
    },
    {
     "data": {
      "image/png": "[encoded data removed]",
      "text/plain": [
       "<Figure size 432x288 with 2 Axes>"
      ]
     },
     "metadata": {
      "needs_background": "light"
     },
     "output_type": "display_data"
    }
   ],
   "source": [
    "sns.heatmap(corr, \n",
    "        xticklabels=corr.columns,\n",
    "        yticklabels=corr.columns)"
   ]
  },
  {
   "cell_type": "code",
   "execution_count": 8,
   "metadata": {},
   "outputs": [
    {
     "data": {
      "text/plain": [
       "Volume                   Volume                   1.000000\n",
       "1 Star Reviews           2 Star Reviews           0.951913\n",
       "4 Star Reviews           3 Star Reviews           0.937214\n",
       "Negative Service Review  1 Star Reviews           0.884728\n",
       "5 Star Reviews           4 Star Reviews           0.879006\n",
       "                                                    ...   \n",
       "Positive Service Review  Shipping Weight (lbs)   -0.270739\n",
       "Product Height           Profit margin           -0.288106\n",
       "Profit margin            Product Width           -0.291436\n",
       "Positive Service Review  Product Height          -0.314294\n",
       "                         Product Width           -0.339094\n",
       "Length: 106, dtype: float64"
      ]
     },
     "execution_count": 8,
     "metadata": {},
     "output_type": "execute_result"
    }
   ],
   "source": [
    "existing_products.corr().unstack().sort_values(ascending = False).drop_duplicates()"
   ]
  },
  {
   "cell_type": "code",
   "execution_count": 9,
   "metadata": {},
   "outputs": [],
   "source": [
    "# feature engineering - remove features that have correlation greater than 90% with each other\n",
    "del existing_products['1 Star Reviews']\n",
    "del existing_products['4 Star Reviews']"
   ]
  },
  {
   "cell_type": "code",
   "execution_count": 10,
   "metadata": {},
   "outputs": [],
   "source": [
    "# make same changes to the data on which we will make predictions\n",
    "del new_products['1 Star Reviews']\n",
    "del new_products['4 Star Reviews']"
   ]
  },
  {
   "cell_type": "code",
   "execution_count": 11,
   "metadata": {},
   "outputs": [],
   "source": [
    "# Since product type is categorical, and we want to predict the numerical sales volume via regression we need to dummify product type\n",
    "existing_products = pd.get_dummies(existing_products, columns=[\"Product Type\"])\n",
    "new_products = pd.get_dummies(new_products, columns=[\"Product Type\"])"
   ]
  },
  {
   "cell_type": "code",
   "execution_count": 13,
   "metadata": {},
   "outputs": [],
   "source": [
    "cols_e = existing_products.columns\n",
    "new_products = new_products.reindex(columns=cols_e)"
   ]
  },
  {
   "cell_type": "code",
   "execution_count": 14,
   "metadata": {},
   "outputs": [],
   "source": [
    "feature_cols = ['Product #', 'Price', '5 Star Reviews', '3 Star Reviews',\n",
    "       '2 Star Reviews', 'Positive Service Review', 'Negative Service Review',\n",
    "       'Would consumer recommend product', 'Shipping Weight (lbs)',\n",
    "       'Product Depth', 'Product Width', 'Product Height', 'Profit margin',\n",
    "       'Product Type_Accessories', 'Product Type_Display',\n",
    "       'Product Type_Extended Warranty', 'Product Type_Game Console',\n",
    "       'Product Type_Laptop', 'Product Type_Netbook', 'Product Type_PC',\n",
    "       'Product Type_Printer', 'Product Type_Printer Supplies',\n",
    "       'Product Type_Smartphone', 'Product Type_Software',\n",
    "       'Product Type_Tablet']\n",
    "X = existing_products[feature_cols] # Features\n",
    "y = existing_products['Volume'] # Target variable"
   ]
  },
  {
   "cell_type": "code",
   "execution_count": 15,
   "metadata": {},
   "outputs": [],
   "source": [
    "X_train, X_test, y_train, y_test = train_test_split(X, y, test_size=0.3, random_state=1) # 70% training and 30% test"
   ]
  },
  {
   "cell_type": "code",
   "execution_count": 16,
   "metadata": {},
   "outputs": [],
   "source": [
    "# Create SVR model object\n",
    "svr = SVR()\n",
    "# Train model\n",
    "svr = svr.fit(X_train,y_train)\n",
    "#Predict the response for test dataset\n",
    "y_pred = svr.predict(X_test)"
   ]
  },
  {
   "cell_type": "code",
   "execution_count": 17,
   "metadata": {},
   "outputs": [
    {
     "name": "stdout",
     "output_type": "stream",
     "text": [
      "RMSE:  805.5794568300819\n"
     ]
    }
   ],
   "source": [
    "mse = mean_squared_error(y_test, y_pred)\n",
    "rmse = np.sqrt(mse)\n",
    "print(\"RMSE: \", rmse)"
   ]
  },
  {
   "cell_type": "code",
   "execution_count": 18,
   "metadata": {},
   "outputs": [
    {
     "name": "stdout",
     "output_type": "stream",
     "text": [
      "R2 score : -0.68\n"
     ]
    }
   ],
   "source": [
    "print(\"R2 score : %.2f\" % r2_score(y_test,y_pred))"
   ]
  },
  {
   "cell_type": "code",
   "execution_count": 19,
   "metadata": {},
   "outputs": [],
   "source": [
    "# Create Random forest model object\n",
    "rf = RandomForestRegressor()\n",
    "# Train model\n",
    "rf = rf.fit(X_train,y_train)\n",
    "#Predict the response for test dataset\n",
    "y_pred_rf = rf.predict(X_test)"
   ]
  },
  {
   "cell_type": "code",
   "execution_count": 20,
   "metadata": {},
   "outputs": [
    {
     "name": "stdout",
     "output_type": "stream",
     "text": [
      "RMSE:  377.0806564472204\n"
     ]
    }
   ],
   "source": [
    "mse_rf = mean_squared_error(y_test, y_pred_rf)\n",
    "rmse_rf = np.sqrt(mse_rf)\n",
    "print(\"RMSE: \", rmse_rf)"
   ]
  },
  {
   "cell_type": "code",
   "execution_count": 21,
   "metadata": {},
   "outputs": [
    {
     "name": "stdout",
     "output_type": "stream",
     "text": [
      "R2 score : 0.63\n"
     ]
    }
   ],
   "source": [
    "print(\"R2 score : %.2f\" % r2_score(y_test,y_pred_rf))"
   ]
  },
  {
   "cell_type": "code",
   "execution_count": 22,
   "metadata": {},
   "outputs": [],
   "source": [
    "X_new_products = new_products[feature_cols] # Features\n",
    "X_new_products = X_new_products.fillna(0)"
   ]
  },
  {
   "cell_type": "code",
   "execution_count": 23,
   "metadata": {},
   "outputs": [],
   "source": [
    "# get predictions from better model\n",
    "y_pred_new_products = rf.predict(X_new_products)"
   ]
  },
  {
   "cell_type": "code",
   "execution_count": 24,
   "metadata": {},
   "outputs": [],
   "source": [
    "new_products['Predicted_Volume'] = y_pred_new_products"
   ]
  },
  {
   "cell_type": "code",
   "execution_count": 25,
   "metadata": {},
   "outputs": [],
   "source": [
    "new_products.to_csv(\"New_Products_Sales_Predictions.csv\")"
   ]
  }
 ],
 "metadata": {
  "kernelspec": {
   "display_name": "Python 3",
   "language": "python",
   "name": "python3"
  },
  "language_info": {
   "codemirror_mode": {
    "name": "ipython",
    "version": 3
   },
   "file_extension": ".py",
   "mimetype": "text/x-python",
   "name": "python",
   "nbconvert_exporter": "python",
   "pygments_lexer": "ipython3",
   "version": "3.7.6"
  }
 },
 "nbformat": 4,
 "nbformat_minor": 4
}
